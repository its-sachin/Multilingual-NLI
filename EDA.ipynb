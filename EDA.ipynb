{
 "cells": [
  {
   "cell_type": "code",
   "execution_count": 1,
   "id": "6b38f3c3",
   "metadata": {},
   "outputs": [],
   "source": [
    "import pandas as pd\n",
    "import numpy as np\n",
    "import seaborn as sns\n",
    "import matplotlib.pyplot as plt"
   ]
  },
  {
   "cell_type": "code",
   "execution_count": 121,
   "id": "368686d3",
   "metadata": {},
   "outputs": [],
   "source": [
    "TRAIN_FILE = 'data/train.tsv'\n",
    "# TRAIN_FILE = 'data/test_kaggle.tsv'"
   ]
  },
  {
   "cell_type": "code",
   "execution_count": 122,
   "id": "db69dca3",
   "metadata": {},
   "outputs": [
    {
     "data": {
      "text/plain": [
       "(114993, 4)"
      ]
     },
     "execution_count": 122,
     "metadata": {},
     "output_type": "execute_result"
    }
   ],
   "source": [
    "df = pd.read_csv(TRAIN_FILE,sep='\\t')\n",
    "df.shape"
   ]
  },
  {
   "cell_type": "code",
   "execution_count": 123,
   "id": "7a878f3b",
   "metadata": {},
   "outputs": [
    {
     "data": {
      "text/plain": [
       "Index(['gold_label', 'premise', 'hypothesis', 'language'], dtype='object')"
      ]
     },
     "execution_count": 123,
     "metadata": {},
     "output_type": "execute_result"
    }
   ],
   "source": [
    "df.columns"
   ]
  },
  {
   "cell_type": "code",
   "execution_count": 124,
   "id": "440f61e7",
   "metadata": {},
   "outputs": [
    {
     "data": {
      "text/html": [
       "<div>\n",
       "<style scoped>\n",
       "    .dataframe tbody tr th:only-of-type {\n",
       "        vertical-align: middle;\n",
       "    }\n",
       "\n",
       "    .dataframe tbody tr th {\n",
       "        vertical-align: top;\n",
       "    }\n",
       "\n",
       "    .dataframe thead th {\n",
       "        text-align: right;\n",
       "    }\n",
       "</style>\n",
       "<table border=\"1\" class=\"dataframe\">\n",
       "  <thead>\n",
       "    <tr style=\"text-align: right;\">\n",
       "      <th></th>\n",
       "      <th>gold_label</th>\n",
       "      <th>premise</th>\n",
       "      <th>hypothesis</th>\n",
       "      <th>language</th>\n",
       "    </tr>\n",
       "  </thead>\n",
       "  <tbody>\n",
       "    <tr>\n",
       "      <th>0</th>\n",
       "      <td>neutral</td>\n",
       "      <td>At ground level, the asymmetrical cathedral is...</td>\n",
       "      <td>It's hard to find a dramatic view of the cathe...</td>\n",
       "      <td>en</td>\n",
       "    </tr>\n",
       "    <tr>\n",
       "      <th>1</th>\n",
       "      <td>contradiction</td>\n",
       "      <td>Hanuman is a beneficent deity predating classi...</td>\n",
       "      <td>Hanuman declared that all the lemurs here need...</td>\n",
       "      <td>en</td>\n",
       "    </tr>\n",
       "    <tr>\n",
       "      <th>2</th>\n",
       "      <td>contradiction</td>\n",
       "      <td>All other spending as well as federal revenue ...</td>\n",
       "      <td>None of the federal spending is assumed to grow</td>\n",
       "      <td>en</td>\n",
       "    </tr>\n",
       "    <tr>\n",
       "      <th>3</th>\n",
       "      <td>neutral</td>\n",
       "      <td>uh-huh that's interesting well it sounds as th...</td>\n",
       "      <td>That information about graduation rates is int...</td>\n",
       "      <td>en</td>\n",
       "    </tr>\n",
       "    <tr>\n",
       "      <th>4</th>\n",
       "      <td>neutral</td>\n",
       "      <td>Some kind of instant recognition on his father...</td>\n",
       "      <td>Did his father recognize him?</td>\n",
       "      <td>en</td>\n",
       "    </tr>\n",
       "  </tbody>\n",
       "</table>\n",
       "</div>"
      ],
      "text/plain": [
       "      gold_label                                            premise  \\\n",
       "0        neutral  At ground level, the asymmetrical cathedral is...   \n",
       "1  contradiction  Hanuman is a beneficent deity predating classi...   \n",
       "2  contradiction  All other spending as well as federal revenue ...   \n",
       "3        neutral  uh-huh that's interesting well it sounds as th...   \n",
       "4        neutral  Some kind of instant recognition on his father...   \n",
       "\n",
       "                                          hypothesis language  \n",
       "0  It's hard to find a dramatic view of the cathe...       en  \n",
       "1  Hanuman declared that all the lemurs here need...       en  \n",
       "2    None of the federal spending is assumed to grow       en  \n",
       "3  That information about graduation rates is int...       en  \n",
       "4                      Did his father recognize him?       en  "
      ]
     },
     "execution_count": 124,
     "metadata": {},
     "output_type": "execute_result"
    }
   ],
   "source": [
    "df.head()"
   ]
  },
  {
   "cell_type": "code",
   "execution_count": 125,
   "id": "4694130f",
   "metadata": {},
   "outputs": [
    {
     "data": {
      "text/html": [
       "<div>\n",
       "<style scoped>\n",
       "    .dataframe tbody tr th:only-of-type {\n",
       "        vertical-align: middle;\n",
       "    }\n",
       "\n",
       "    .dataframe tbody tr th {\n",
       "        vertical-align: top;\n",
       "    }\n",
       "\n",
       "    .dataframe thead th {\n",
       "        text-align: right;\n",
       "    }\n",
       "</style>\n",
       "<table border=\"1\" class=\"dataframe\">\n",
       "  <thead>\n",
       "    <tr style=\"text-align: right;\">\n",
       "      <th></th>\n",
       "      <th>gold_label</th>\n",
       "      <th>premise</th>\n",
       "      <th>hypothesis</th>\n",
       "      <th>language</th>\n",
       "    </tr>\n",
       "  </thead>\n",
       "  <tbody>\n",
       "  </tbody>\n",
       "</table>\n",
       "</div>"
      ],
      "text/plain": [
       "Empty DataFrame\n",
       "Columns: [gold_label, premise, hypothesis, language]\n",
       "Index: []"
      ]
     },
     "execution_count": 125,
     "metadata": {},
     "output_type": "execute_result"
    }
   ],
   "source": [
    "df[df.premise.isnull() == True]"
   ]
  },
  {
   "cell_type": "code",
   "execution_count": 127,
   "id": "5225b914",
   "metadata": {},
   "outputs": [
    {
     "data": {
      "text/html": [
       "<div>\n",
       "<style scoped>\n",
       "    .dataframe tbody tr th:only-of-type {\n",
       "        vertical-align: middle;\n",
       "    }\n",
       "\n",
       "    .dataframe tbody tr th {\n",
       "        vertical-align: top;\n",
       "    }\n",
       "\n",
       "    .dataframe thead th {\n",
       "        text-align: right;\n",
       "    }\n",
       "</style>\n",
       "<table border=\"1\" class=\"dataframe\">\n",
       "  <thead>\n",
       "    <tr style=\"text-align: right;\">\n",
       "      <th></th>\n",
       "      <th>gold_label</th>\n",
       "      <th>premise</th>\n",
       "      <th>hypothesis</th>\n",
       "      <th>language</th>\n",
       "    </tr>\n",
       "  </thead>\n",
       "  <tbody>\n",
       "    <tr>\n",
       "      <th>104993</th>\n",
       "      <td>contradiction</td>\n",
       "      <td>Но изведнъж бяхме извикани навън, за да видим ...</td>\n",
       "      <td>Казаха ни да не гледаме навън.</td>\n",
       "      <td>bg</td>\n",
       "    </tr>\n",
       "    <tr>\n",
       "      <th>104994</th>\n",
       "      <td>neutral</td>\n",
       "      <td>Релахо може да опише и шеговита връзка, загадъ...</td>\n",
       "      <td>Relajo се шегува за икономиката.</td>\n",
       "      <td>bg</td>\n",
       "    </tr>\n",
       "    <tr>\n",
       "      <th>104995</th>\n",
       "      <td>contradiction</td>\n",
       "      <td>Надявам се най-сетне Ваша Светлост да започне ...</td>\n",
       "      <td>Негова Светлост просто прие съвета ми и предпр...</td>\n",
       "      <td>bg</td>\n",
       "    </tr>\n",
       "    <tr>\n",
       "      <th>104996</th>\n",
       "      <td>contradiction</td>\n",
       "      <td>Днес терминът барбакоа се използва само за озн...</td>\n",
       "      <td>Терминът барбакоа се използва за печене на зел...</td>\n",
       "      <td>bg</td>\n",
       "    </tr>\n",
       "    <tr>\n",
       "      <th>104997</th>\n",
       "      <td>contradiction</td>\n",
       "      <td>Няма разлика между по-младите и по-възрастните...</td>\n",
       "      <td>Млади и стари съученици имат различни резултат...</td>\n",
       "      <td>bg</td>\n",
       "    </tr>\n",
       "    <tr>\n",
       "      <th>...</th>\n",
       "      <td>...</td>\n",
       "      <td>...</td>\n",
       "      <td>...</td>\n",
       "      <td>...</td>\n",
       "    </tr>\n",
       "    <tr>\n",
       "      <th>105988</th>\n",
       "      <td>neutral</td>\n",
       "      <td>но от друга страна сме изяли много миещи мечки...</td>\n",
       "      <td>Опитвал съм месо от най-различни животни.</td>\n",
       "      <td>bg</td>\n",
       "    </tr>\n",
       "    <tr>\n",
       "      <th>105989</th>\n",
       "      <td>contradiction</td>\n",
       "      <td>но не, ние обикновено сме с пола и блуза или к...</td>\n",
       "      <td>Все още нося рокли, когато работя у дома, защо...</td>\n",
       "      <td>bg</td>\n",
       "    </tr>\n",
       "    <tr>\n",
       "      <th>105990</th>\n",
       "      <td>contradiction</td>\n",
       "      <td>Няма да избухне без спусъка.</td>\n",
       "      <td>Няма спусък за натискане.</td>\n",
       "      <td>bg</td>\n",
       "    </tr>\n",
       "    <tr>\n",
       "      <th>105991</th>\n",
       "      <td>neutral</td>\n",
       "      <td>Трябваше да започна да тренирам в курса.</td>\n",
       "      <td>Трябваше да се науча как да завърша пътя с пре...</td>\n",
       "      <td>bg</td>\n",
       "    </tr>\n",
       "    <tr>\n",
       "      <th>105992</th>\n",
       "      <td>contradiction</td>\n",
       "      <td>Членовете на автомобилните клубове се наричат ...</td>\n",
       "      <td>Членовете на автомобилните клубове не се возят.</td>\n",
       "      <td>bg</td>\n",
       "    </tr>\n",
       "  </tbody>\n",
       "</table>\n",
       "<p>1000 rows × 4 columns</p>\n",
       "</div>"
      ],
      "text/plain": [
       "           gold_label                                            premise  \\\n",
       "104993  contradiction  Но изведнъж бяхме извикани навън, за да видим ...   \n",
       "104994        neutral  Релахо може да опише и шеговита връзка, загадъ...   \n",
       "104995  contradiction  Надявам се най-сетне Ваша Светлост да започне ...   \n",
       "104996  contradiction  Днес терминът барбакоа се използва само за озн...   \n",
       "104997  contradiction  Няма разлика между по-младите и по-възрастните...   \n",
       "...               ...                                                ...   \n",
       "105988        neutral  но от друга страна сме изяли много миещи мечки...   \n",
       "105989  contradiction  но не, ние обикновено сме с пола и блуза или к...   \n",
       "105990  contradiction                       Няма да избухне без спусъка.   \n",
       "105991        neutral           Трябваше да започна да тренирам в курса.   \n",
       "105992  contradiction  Членовете на автомобилните клубове се наричат ...   \n",
       "\n",
       "                                               hypothesis language  \n",
       "104993                     Казаха ни да не гледаме навън.       bg  \n",
       "104994                   Relajo се шегува за икономиката.       bg  \n",
       "104995  Негова Светлост просто прие съвета ми и предпр...       bg  \n",
       "104996  Терминът барбакоа се използва за печене на зел...       bg  \n",
       "104997  Млади и стари съученици имат различни резултат...       bg  \n",
       "...                                                   ...      ...  \n",
       "105988          Опитвал съм месо от най-различни животни.       bg  \n",
       "105989  Все още нося рокли, когато работя у дома, защо...       bg  \n",
       "105990                          Няма спусък за натискане.       bg  \n",
       "105991  Трябваше да се науча как да завърша пътя с пре...       bg  \n",
       "105992    Членовете на автомобилните клубове не се возят.       bg  \n",
       "\n",
       "[1000 rows x 4 columns]"
      ]
     },
     "execution_count": 127,
     "metadata": {},
     "output_type": "execute_result"
    }
   ],
   "source": [
    "df[df.language == 'bg']"
   ]
  },
  {
   "cell_type": "code",
   "execution_count": 126,
   "id": "4eb452c9",
   "metadata": {},
   "outputs": [
    {
     "data": {
      "text/plain": [
       "en    100993\n",
       "vi      1000\n",
       "de      1000\n",
       "ar      1000\n",
       "es      1000\n",
       "bg      1000\n",
       "el      1000\n",
       "th      1000\n",
       "ru      1000\n",
       "tr      1000\n",
       "sw      1000\n",
       "ur      1000\n",
       "zh      1000\n",
       "hi      1000\n",
       "fr      1000\n",
       "Name: language, dtype: int64"
      ]
     },
     "execution_count": 126,
     "metadata": {},
     "output_type": "execute_result"
    }
   ],
   "source": [
    "df.language.value_counts()"
   ]
  },
  {
   "cell_type": "code",
   "execution_count": 93,
   "id": "3f979183",
   "metadata": {},
   "outputs": [
    {
     "data": {
      "text/plain": [
       "<AxesSubplot:xlabel='gold_label', ylabel='Count'>"
      ]
     },
     "execution_count": 93,
     "metadata": {},
     "output_type": "execute_result"
    },
    {
     "data": {
      "image/png": "[encoded data removed]",
      "text/plain": [
       "<Figure size 432x288 with 1 Axes>"
      ]
     },
     "metadata": {
      "needs_background": "light"
     },
     "output_type": "display_data"
    }
   ],
   "source": [
    "sns.histplot(df.gold_label)"
   ]
  },
  {
   "cell_type": "code",
   "execution_count": 96,
   "id": "559f3ad1",
   "metadata": {},
   "outputs": [],
   "source": [
    "df_hr = df[df.language == 'en']\n",
    "df_lr = df[df.language != 'en']"
   ]
  },
  {
   "cell_type": "code",
   "execution_count": 97,
   "id": "a8a18cb2",
   "metadata": {},
   "outputs": [
    {
     "data": {
      "text/plain": [
       "<AxesSubplot:>"
      ]
     },
     "execution_count": 97,
     "metadata": {},
     "output_type": "execute_result"
    },
    {
     "data": {
      "image/png": "[encoded data removed]",
      "text/plain": [
       "<Figure size 432x288 with 1 Axes>"
      ]
     },
     "metadata": {
      "needs_background": "light"
     },
     "output_type": "display_data"
    }
   ],
   "source": [
    "sns.histplot(df_hr.gold_label)"
   ]
  },
  {
   "cell_type": "code",
   "execution_count": 98,
   "id": "69231af0",
   "metadata": {},
   "outputs": [
    {
     "data": {
      "text/plain": [
       "<seaborn.axisgrid.FacetGrid at 0x7f81dc50f9d0>"
      ]
     },
     "execution_count": 98,
     "metadata": {},
     "output_type": "execute_result"
    },
    {
     "data": {
      "image/png": "[encoded data removed]",
      "text/plain": [
       "<Figure size 288x4032 with 14 Axes>"
      ]
     },
     "metadata": {
      "needs_background": "light"
     },
     "output_type": "display_data"
    }
   ],
   "source": [
    "g = sns.FacetGrid(df_lr, row=\"language\", height=4)\n",
    "g.map(sns.histplot, \"gold_label\")"
   ]
  },
  {
   "cell_type": "code",
   "execution_count": null,
   "id": "63988711",
   "metadata": {},
   "outputs": [],
   "source": []
  },
  {
   "cell_type": "code",
   "execution_count": 75,
   "id": "b2088418",
   "metadata": {},
   "outputs": [],
   "source": [
    "df = pd.read_csv('data/extra/back_translation_all.csv')"
   ]
  },
  {
   "cell_type": "code",
   "execution_count": 76,
   "id": "3009457c",
   "metadata": {},
   "outputs": [
    {
     "data": {
      "text/html": [
       "<div>\n",
       "<style scoped>\n",
       "    .dataframe tbody tr th:only-of-type {\n",
       "        vertical-align: middle;\n",
       "    }\n",
       "\n",
       "    .dataframe tbody tr th {\n",
       "        vertical-align: top;\n",
       "    }\n",
       "\n",
       "    .dataframe thead th {\n",
       "        text-align: right;\n",
       "    }\n",
       "</style>\n",
       "<table border=\"1\" class=\"dataframe\">\n",
       "  <thead>\n",
       "    <tr style=\"text-align: right;\">\n",
       "      <th></th>\n",
       "      <th>id</th>\n",
       "      <th>premise</th>\n",
       "      <th>hypothesis</th>\n",
       "      <th>lang_abv</th>\n",
       "      <th>language</th>\n",
       "      <th>label</th>\n",
       "    </tr>\n",
       "  </thead>\n",
       "  <tbody>\n",
       "    <tr>\n",
       "      <th>0</th>\n",
       "      <td>cd1f2cb2c7</td>\n",
       "      <td>Alibishana juu ya nani alikuwa mdogo na ni nan...</td>\n",
       "      <td>Wote walikubaliana kuwa watafanya kazi katika ...</td>\n",
       "      <td>sw</td>\n",
       "      <td>Swahili</td>\n",
       "      <td>2</td>\n",
       "    </tr>\n",
       "    <tr>\n",
       "      <th>1</th>\n",
       "      <td>6e066679e1</td>\n",
       "      <td>Ve onlar Augusta bölgesinde kalamazlardı çünkü...</td>\n",
       "      <td>İnsanlar beyaz olmadıklarının farkındaydı.</td>\n",
       "      <td>tr</td>\n",
       "      <td>Turkish</td>\n",
       "      <td>0</td>\n",
       "    </tr>\n",
       "    <tr>\n",
       "      <th>2</th>\n",
       "      <td>dfd570c177</td>\n",
       "      <td>Alors, Shannon a pris le logarithme du volume ...</td>\n",
       "      <td>Shannon a jugé que le message venait d'une sou...</td>\n",
       "      <td>fr</td>\n",
       "      <td>French</td>\n",
       "      <td>1</td>\n",
       "    </tr>\n",
       "    <tr>\n",
       "      <th>3</th>\n",
       "      <td>e7104d56ea</td>\n",
       "      <td>äh ja, und ich würde sagen, äh, ich werde wegf...</td>\n",
       "      <td>Ich würde I'll Fly Away wählen.</td>\n",
       "      <td>de</td>\n",
       "      <td>German</td>\n",
       "      <td>0</td>\n",
       "    </tr>\n",
       "    <tr>\n",
       "      <th>4</th>\n",
       "      <td>9aac706111</td>\n",
       "      <td>Louisa May Alcott y Nathaniel Hawthorne viven ...</td>\n",
       "      <td>Hawthorne vive en Pinckney Street.</td>\n",
       "      <td>es</td>\n",
       "      <td>Spanish</td>\n",
       "      <td>0</td>\n",
       "    </tr>\n",
       "    <tr>\n",
       "      <th>...</th>\n",
       "      <td>...</td>\n",
       "      <td>...</td>\n",
       "      <td>...</td>\n",
       "      <td>...</td>\n",
       "      <td>...</td>\n",
       "      <td>...</td>\n",
       "    </tr>\n",
       "    <tr>\n",
       "      <th>11941</th>\n",
       "      <td>2e41a9d211</td>\n",
       "      <td>В полиции сообщили, что они исключили из числа...</td>\n",
       "      <td>Есть достаточно доказательств для ареста едино...</td>\n",
       "      <td>ru</td>\n",
       "      <td>Russian</td>\n",
       "      <td>2</td>\n",
       "    </tr>\n",
       "    <tr>\n",
       "      <th>11942</th>\n",
       "      <td>2632b516d3</td>\n",
       "      <td>माता-पिता के बारे में न्यूज़वीक कवर पैकेज |</td>\n",
       "      <td>माता-पिता के संबंध में न्यूज़वीक का विपणन लक्ष...</td>\n",
       "      <td>hi</td>\n",
       "      <td>Hindi</td>\n",
       "      <td>0</td>\n",
       "    </tr>\n",
       "    <tr>\n",
       "      <th>11943</th>\n",
       "      <td>6a6dbe192e</td>\n",
       "      <td>سونجا باچا اپنی بیٹی کے تانم کی نقل کرتی ہے۔</td>\n",
       "      <td>کوئی رو رہا تھا</td>\n",
       "      <td>ur</td>\n",
       "      <td>Urdu</td>\n",
       "      <td>2</td>\n",
       "    </tr>\n",
       "    <tr>\n",
       "      <th>11944</th>\n",
       "      <td>7689a6d56c</td>\n",
       "      <td>Άλλοι απάντησαν στην ερώτηση, αλλά ο Keys κοκτέιλ</td>\n",
       "      <td>Οι Keys δεν απάντησαν σε αυτήν την ερώτηση.</td>\n",
       "      <td>el</td>\n",
       "      <td>Greek</td>\n",
       "      <td>2</td>\n",
       "    </tr>\n",
       "    <tr>\n",
       "      <th>11945</th>\n",
       "      <td>5918416437</td>\n",
       "      <td>(Im Schulterkampf hörte das laute Geräusch von...</td>\n",
       "      <td>Es gibt weniger Studenten auf dem Campus, also...</td>\n",
       "      <td>de</td>\n",
       "      <td>German</td>\n",
       "      <td>1</td>\n",
       "    </tr>\n",
       "  </tbody>\n",
       "</table>\n",
       "<p>11946 rows × 6 columns</p>\n",
       "</div>"
      ],
      "text/plain": [
       "               id                                            premise  \\\n",
       "0      cd1f2cb2c7  Alibishana juu ya nani alikuwa mdogo na ni nan...   \n",
       "1      6e066679e1  Ve onlar Augusta bölgesinde kalamazlardı çünkü...   \n",
       "2      dfd570c177  Alors, Shannon a pris le logarithme du volume ...   \n",
       "3      e7104d56ea  äh ja, und ich würde sagen, äh, ich werde wegf...   \n",
       "4      9aac706111  Louisa May Alcott y Nathaniel Hawthorne viven ...   \n",
       "...           ...                                                ...   \n",
       "11941  2e41a9d211  В полиции сообщили, что они исключили из числа...   \n",
       "11942  2632b516d3        माता-पिता के बारे में न्यूज़वीक कवर पैकेज |   \n",
       "11943  6a6dbe192e       سونجا باچا اپنی بیٹی کے تانم کی نقل کرتی ہے۔   \n",
       "11944  7689a6d56c  Άλλοι απάντησαν στην ερώτηση, αλλά ο Keys κοκτέιλ   \n",
       "11945  5918416437  (Im Schulterkampf hörte das laute Geräusch von...   \n",
       "\n",
       "                                              hypothesis lang_abv language  \\\n",
       "0      Wote walikubaliana kuwa watafanya kazi katika ...       sw  Swahili   \n",
       "1             İnsanlar beyaz olmadıklarının farkındaydı.       tr  Turkish   \n",
       "2      Shannon a jugé que le message venait d'une sou...       fr   French   \n",
       "3                        Ich würde I'll Fly Away wählen.       de   German   \n",
       "4                     Hawthorne vive en Pinckney Street.       es  Spanish   \n",
       "...                                                  ...      ...      ...   \n",
       "11941  Есть достаточно доказательств для ареста едино...       ru  Russian   \n",
       "11942  माता-पिता के संबंध में न्यूज़वीक का विपणन लक्ष...       hi    Hindi   \n",
       "11943                                    کوئی رو رہا تھا       ur     Urdu   \n",
       "11944        Οι Keys δεν απάντησαν σε αυτήν την ερώτηση.       el    Greek   \n",
       "11945  Es gibt weniger Studenten auf dem Campus, also...       de   German   \n",
       "\n",
       "       label  \n",
       "0          2  \n",
       "1          0  \n",
       "2          1  \n",
       "3          0  \n",
       "4          0  \n",
       "...      ...  \n",
       "11941      2  \n",
       "11942      0  \n",
       "11943      2  \n",
       "11944      2  \n",
       "11945      1  \n",
       "\n",
       "[11946 rows x 6 columns]"
      ]
     },
     "execution_count": 76,
     "metadata": {},
     "output_type": "execute_result"
    }
   ],
   "source": [
    "df"
   ]
  },
  {
   "cell_type": "code",
   "execution_count": 77,
   "id": "61ff48bc",
   "metadata": {},
   "outputs": [],
   "source": [
    "label = {\n",
    "    0: 'entailment',\n",
    "    1: 'neutral',\n",
    "    2: 'contradiction'\n",
    "}"
   ]
  },
  {
   "cell_type": "code",
   "execution_count": 78,
   "id": "be08b70b",
   "metadata": {},
   "outputs": [
    {
     "data": {
      "text/html": [
       "<div>\n",
       "<style scoped>\n",
       "    .dataframe tbody tr th:only-of-type {\n",
       "        vertical-align: middle;\n",
       "    }\n",
       "\n",
       "    .dataframe tbody tr th {\n",
       "        vertical-align: top;\n",
       "    }\n",
       "\n",
       "    .dataframe thead th {\n",
       "        text-align: right;\n",
       "    }\n",
       "</style>\n",
       "<table border=\"1\" class=\"dataframe\">\n",
       "  <thead>\n",
       "    <tr style=\"text-align: right;\">\n",
       "      <th></th>\n",
       "      <th>gold_label</th>\n",
       "      <th>premise</th>\n",
       "      <th>hypothesis</th>\n",
       "      <th>language</th>\n",
       "    </tr>\n",
       "  </thead>\n",
       "  <tbody>\n",
       "    <tr>\n",
       "      <th>0</th>\n",
       "      <td>contradiction</td>\n",
       "      <td>Alibishana juu ya nani alikuwa mdogo na ni nan...</td>\n",
       "      <td>Wote walikubaliana kuwa watafanya kazi katika ...</td>\n",
       "      <td>sw</td>\n",
       "    </tr>\n",
       "    <tr>\n",
       "      <th>1</th>\n",
       "      <td>entailment</td>\n",
       "      <td>Ve onlar Augusta bölgesinde kalamazlardı çünkü...</td>\n",
       "      <td>İnsanlar beyaz olmadıklarının farkındaydı.</td>\n",
       "      <td>tr</td>\n",
       "    </tr>\n",
       "    <tr>\n",
       "      <th>2</th>\n",
       "      <td>neutral</td>\n",
       "      <td>Alors, Shannon a pris le logarithme du volume ...</td>\n",
       "      <td>Shannon a jugé que le message venait d'une sou...</td>\n",
       "      <td>fr</td>\n",
       "    </tr>\n",
       "    <tr>\n",
       "      <th>3</th>\n",
       "      <td>entailment</td>\n",
       "      <td>äh ja, und ich würde sagen, äh, ich werde wegf...</td>\n",
       "      <td>Ich würde I'll Fly Away wählen.</td>\n",
       "      <td>de</td>\n",
       "    </tr>\n",
       "    <tr>\n",
       "      <th>4</th>\n",
       "      <td>entailment</td>\n",
       "      <td>Louisa May Alcott y Nathaniel Hawthorne viven ...</td>\n",
       "      <td>Hawthorne vive en Pinckney Street.</td>\n",
       "      <td>es</td>\n",
       "    </tr>\n",
       "    <tr>\n",
       "      <th>...</th>\n",
       "      <td>...</td>\n",
       "      <td>...</td>\n",
       "      <td>...</td>\n",
       "      <td>...</td>\n",
       "    </tr>\n",
       "    <tr>\n",
       "      <th>11941</th>\n",
       "      <td>contradiction</td>\n",
       "      <td>В полиции сообщили, что они исключили из числа...</td>\n",
       "      <td>Есть достаточно доказательств для ареста едино...</td>\n",
       "      <td>ru</td>\n",
       "    </tr>\n",
       "    <tr>\n",
       "      <th>11942</th>\n",
       "      <td>entailment</td>\n",
       "      <td>माता-पिता के बारे में न्यूज़वीक कवर पैकेज |</td>\n",
       "      <td>माता-पिता के संबंध में न्यूज़वीक का विपणन लक्ष...</td>\n",
       "      <td>hi</td>\n",
       "    </tr>\n",
       "    <tr>\n",
       "      <th>11943</th>\n",
       "      <td>contradiction</td>\n",
       "      <td>سونجا باچا اپنی بیٹی کے تانم کی نقل کرتی ہے۔</td>\n",
       "      <td>کوئی رو رہا تھا</td>\n",
       "      <td>ur</td>\n",
       "    </tr>\n",
       "    <tr>\n",
       "      <th>11944</th>\n",
       "      <td>contradiction</td>\n",
       "      <td>Άλλοι απάντησαν στην ερώτηση, αλλά ο Keys κοκτέιλ</td>\n",
       "      <td>Οι Keys δεν απάντησαν σε αυτήν την ερώτηση.</td>\n",
       "      <td>el</td>\n",
       "    </tr>\n",
       "    <tr>\n",
       "      <th>11945</th>\n",
       "      <td>neutral</td>\n",
       "      <td>(Im Schulterkampf hörte das laute Geräusch von...</td>\n",
       "      <td>Es gibt weniger Studenten auf dem Campus, also...</td>\n",
       "      <td>de</td>\n",
       "    </tr>\n",
       "  </tbody>\n",
       "</table>\n",
       "<p>11946 rows × 4 columns</p>\n",
       "</div>"
      ],
      "text/plain": [
       "          gold_label                                            premise  \\\n",
       "0      contradiction  Alibishana juu ya nani alikuwa mdogo na ni nan...   \n",
       "1         entailment  Ve onlar Augusta bölgesinde kalamazlardı çünkü...   \n",
       "2            neutral  Alors, Shannon a pris le logarithme du volume ...   \n",
       "3         entailment  äh ja, und ich würde sagen, äh, ich werde wegf...   \n",
       "4         entailment  Louisa May Alcott y Nathaniel Hawthorne viven ...   \n",
       "...              ...                                                ...   \n",
       "11941  contradiction  В полиции сообщили, что они исключили из числа...   \n",
       "11942     entailment        माता-पिता के बारे में न्यूज़वीक कवर पैकेज |   \n",
       "11943  contradiction       سونجا باچا اپنی بیٹی کے تانم کی نقل کرتی ہے۔   \n",
       "11944  contradiction  Άλλοι απάντησαν στην ερώτηση, αλλά ο Keys κοκτέιλ   \n",
       "11945        neutral  (Im Schulterkampf hörte das laute Geräusch von...   \n",
       "\n",
       "                                              hypothesis language  \n",
       "0      Wote walikubaliana kuwa watafanya kazi katika ...       sw  \n",
       "1             İnsanlar beyaz olmadıklarının farkındaydı.       tr  \n",
       "2      Shannon a jugé que le message venait d'une sou...       fr  \n",
       "3                        Ich würde I'll Fly Away wählen.       de  \n",
       "4                     Hawthorne vive en Pinckney Street.       es  \n",
       "...                                                  ...      ...  \n",
       "11941  Есть достаточно доказательств для ареста едино...       ru  \n",
       "11942  माता-पिता के संबंध में न्यूज़वीक का विपणन लक्ष...       hi  \n",
       "11943                                    کوئی رو رہا تھا       ur  \n",
       "11944        Οι Keys δεν απάντησαν σε αυτήν την ερώτηση.       el  \n",
       "11945  Es gibt weniger Studenten auf dem Campus, also...       de  \n",
       "\n",
       "[11946 rows x 4 columns]"
      ]
     },
     "execution_count": 78,
     "metadata": {},
     "output_type": "execute_result"
    }
   ],
   "source": [
    "df['label'] = df.label.map(lambda x: label[x])\n",
    "df['gold_label'] = df['label']\n",
    "df['language'] = df['lang_abv']\n",
    "df = df[['gold_label', 'premise', 'hypothesis', 'language']]\n",
    "df"
   ]
  },
  {
   "cell_type": "code",
   "execution_count": 79,
   "id": "d5171d86",
   "metadata": {},
   "outputs": [],
   "source": [
    "df.to_csv('data/test_kaggle_trans.tsv', sep = '\\t', index=False)"
   ]
  },
  {
   "cell_type": "code",
   "execution_count": null,
   "id": "4d950484",
   "metadata": {},
   "outputs": [],
   "source": []
  }
 ],
 "metadata": {
  "kernelspec": {
   "display_name": "Python 3 (ipykernel)",
   "language": "python",
   "name": "python3"
  },
  "language_info": {
   "codemirror_mode": {
    "name": "ipython",
    "version": 3
   },
   "file_extension": ".py",
   "mimetype": "text/x-python",
   "name": "python",
   "nbconvert_exporter": "python",
   "pygments_lexer": "ipython3",
   "version": "3.10.6"
  },
  "vscode": {
   "interpreter": {
    "hash": "916dbcbb3f70747c44a77c7bcd40155683ae19c65e1c03b4aa3499c5328201f1"
   }
  }
 },
 "nbformat": 4,
 "nbformat_minor": 5
}
